{
  "cells": [
    {
      "cell_type": "markdown",
      "metadata": {
        "id": "view-in-github",
        "colab_type": "text"
      },
      "source": [
        "<a href=\"https://colab.research.google.com/github/HaydeePeruyero/Einstein_metrics/blob/main/Critical_points_ex.ipynb\" target=\"_parent\"><img src=\"https://colab.research.google.com/assets/colab-badge.svg\" alt=\"Open In Colab\"/></a>"
      ]
    },
    {
      "cell_type": "code",
      "execution_count": 1,
      "id": "4eea4213-2915-4c14-8c79-c2467b2f642d",
      "metadata": {
        "id": "4eea4213-2915-4c14-8c79-c2467b2f642d"
      },
      "outputs": [],
      "source": [
        "from sympy import symbols, diff, solve, Eq"
      ]
    },
    {
      "cell_type": "code",
      "execution_count": 2,
      "id": "7a4df37f-9e60-4766-9cff-deb78bceef2e",
      "metadata": {
        "id": "7a4df37f-9e60-4766-9cff-deb78bceef2e"
      },
      "outputs": [],
      "source": [
        "# Define the variables and parameters\n",
        "k, m, x1, x2, lamda = symbols('k m x1 x2 lamda')\n",
        "\n",
        "# Define the expression for S\n",
        "S = (2*k + m - 2)*((k*(k-1))/x1 + (2*m*k)/x2) - ((m*k*(k-1))/2)*(2/x1 + x1/x2**2)\n",
        "\n",
        "# Define the constrained version of S\n",
        "tilde_S = S - lamda*(x1**(k*(k-1))*x2**(2*k*m) - 1)\n",
        "\n",
        "# Compute the partial derivatives of tilde_S with respect to x1, x2\n",
        "partials = [diff(tilde_S, var) for var in (x1, x2)]\n",
        "\n",
        "# Solve the system of equations for critical points\n",
        "#critical_points = solve(partials, (x1, x2))\n",
        "\n",
        "#print(\"Critical Points:\")\n",
        "#for point in critical_points:\n",
        "#    print(point)"
      ]
    },
    {
      "cell_type": "markdown",
      "id": "a8332b9c-4a8b-472e-b6cc-b4511017a2b3",
      "metadata": {
        "id": "a8332b9c-4a8b-472e-b6cc-b4511017a2b3"
      },
      "source": [
        "# Example $SO=(n)$"
      ]
    },
    {
      "cell_type": "code",
      "execution_count": 3,
      "id": "71857546-3436-4666-92bd-5e07ee5945c4",
      "metadata": {
        "colab": {
          "base_uri": "https://localhost:8080/"
        },
        "id": "71857546-3436-4666-92bd-5e07ee5945c4",
        "outputId": "77275eac-56e9-4517-8af6-93b37054cffe"
      },
      "outputs": [
        {
          "output_type": "stream",
          "name": "stdout",
          "text": [
            "[1/2, (k + m - 1)/(2*(k - 1))]\n"
          ]
        }
      ],
      "source": [
        "# Define the variables and parameters\n",
        "k, m, x1, x2, z, lamda = symbols('k m x1 x2 z lamda')\n",
        "\n",
        "# Define the equation\n",
        "eq = Eq (-2*(k-1)*x2**2 - m/2 * x1**2, -(m+2*(k-1))*x1*x2 + (k-1)/2*x1**2)\n",
        "\n",
        "# Express x2 in terms of x1 and z\n",
        "x2_expr = z * x1\n",
        "\n",
        "# Substitute x2 in terms of x1 and z into the equation\n",
        "eq_with_z = eq.subs(x2, x2_expr)\n",
        "\n",
        "# Solve the equation for z\n",
        "solution_z = solve(eq_with_z, z)\n",
        "\n",
        "print(solution_z)"
      ]
    },
    {
      "cell_type": "markdown",
      "id": "116b9174-f9da-43b7-8a4a-02d3fba9567a",
      "metadata": {
        "id": "116b9174-f9da-43b7-8a4a-02d3fba9567a"
      },
      "source": [
        "# Example SO(2m+2k+1)/U(m)SO(2K)"
      ]
    },
    {
      "cell_type": "code",
      "execution_count": 4,
      "id": "3c3694e5-40c5-4a07-83fc-7ed14de7c5a2",
      "metadata": {
        "colab": {
          "base_uri": "https://localhost:8080/"
        },
        "id": "3c3694e5-40c5-4a07-83fc-7ed14de7c5a2",
        "outputId": "7698e6ae-7f48-417f-e316-44092e8da6d7"
      },
      "outputs": [
        {
          "output_type": "stream",
          "name": "stdout",
          "text": [
            "[0.0833333333333333*(x1**2*x2**2 + 8.0*x1**2*x3**2 + 8.0*x2**2*x3**2 - 24.9799919935936*sqrt(0.0016025641025641*x1**4*x2**4 + 0.0256410256410256*x1**4*x2**2*x3**2 + 0.102564102564103*x1**4*x3**4 + 0.256410256410256*x1**2*x2**4*x3**2 - x1**2*x2**3*x3**3 + 0.435897435897436*x1**2*x2**2*x3**4 + 0.102564102564103*x2**4*x3**4))/(x1*x2*x3), 0.0833333333333333*(x1**2*x2**2 + 8.0*x1**2*x3**2 + 8.0*x2**2*x3**2 + 24.9799919935936*sqrt(0.0016025641025641*x1**4*x2**4 + 0.0256410256410256*x1**4*x2**2*x3**2 + 0.102564102564103*x1**4*x3**4 + 0.256410256410256*x1**2*x2**4*x3**2 - x1**2*x2**3*x3**3 + 0.435897435897436*x1**2*x2**2*x3**4 + 0.102564102564103*x2**4*x3**4))/(x1*x2*x3)]\n"
          ]
        }
      ],
      "source": [
        "# Define symbols\n",
        "x1, x2, x3, x4, k, m = symbols('x1 x2 x3 x4 k m')\n",
        "\n",
        "# Define the equation\n",
        "eq = Eq(x4 * (-(2*m + 2*k - 1)*x2**2*x3**2 - (1/2)*(2*k*(x1**2*x3**2 - 2*x2**2*x3**2) + x1**2*x2**2 - 2*x2**2*x3**2)), x1 * x2 * x3 * (-(2*m + 2*k - 1)*x2*x3 - m*(x4**2 - x2**2 - x3**2)))\n",
        "\n",
        "eq_subs = eq.subs(m, 3)\n",
        "eq_subs_f = eq_subs.subs(k,4)\n",
        "\n",
        "# Solve the equation for z\n",
        "solution = solve(eq_subs_f, (x4))\n",
        "\n",
        "print(solution)"
      ]
    },
    {
      "cell_type": "code",
      "execution_count": 5,
      "id": "e4b5e266-f3ed-4561-bc4a-2ffc9cda67a8",
      "metadata": {
        "colab": {
          "base_uri": "https://localhost:8080/",
          "height": 88
        },
        "id": "e4b5e266-f3ed-4561-bc4a-2ffc9cda67a8",
        "outputId": "c695e063-c6b5-48c1-fdb6-dd3de54b1a74"
      },
      "outputs": [
        {
          "output_type": "execute_result",
          "data": {
            "text/plain": [
              "0.0833333333333333*(x1**2*x2**2 + 8.0*x1**2*x3**2 + 8.0*x2**2*x3**2 - 24.9799919935936*sqrt(0.0016025641025641*x1**4*x2**4 + 0.0256410256410256*x1**4*x2**2*x3**2 + 0.102564102564103*x1**4*x3**4 + 0.256410256410256*x1**2*x2**4*x3**2 - x1**2*x2**3*x3**3 + 0.435897435897436*x1**2*x2**2*x3**4 + 0.102564102564103*x2**4*x3**4))/(x1*x2*x3)"
            ],
            "text/latex": "$\\displaystyle \\frac{0.0833333333333333 \\left(x_{1}^{2} x_{2}^{2} + 8.0 x_{1}^{2} x_{3}^{2} + 8.0 x_{2}^{2} x_{3}^{2} - 24.9799919935936 \\sqrt{0.0016025641025641 x_{1}^{4} x_{2}^{4} + 0.0256410256410256 x_{1}^{4} x_{2}^{2} x_{3}^{2} + 0.102564102564103 x_{1}^{4} x_{3}^{4} + 0.256410256410256 x_{1}^{2} x_{2}^{4} x_{3}^{2} - x_{1}^{2} x_{2}^{3} x_{3}^{3} + 0.435897435897436 x_{1}^{2} x_{2}^{2} x_{3}^{4} + 0.102564102564103 x_{2}^{4} x_{3}^{4}}\\right)}{x_{1} x_{2} x_{3}}$"
          },
          "metadata": {},
          "execution_count": 5
        }
      ],
      "source": [
        "solution[0]"
      ]
    },
    {
      "cell_type": "code",
      "execution_count": 6,
      "id": "b3bf9ce1-4705-45b3-abd5-aa9193314d07",
      "metadata": {
        "colab": {
          "base_uri": "https://localhost:8080/",
          "height": 88
        },
        "id": "b3bf9ce1-4705-45b3-abd5-aa9193314d07",
        "outputId": "db5ff4df-5954-4224-b0ba-5ab9233ad325"
      },
      "outputs": [
        {
          "output_type": "execute_result",
          "data": {
            "text/plain": [
              "0.0833333333333333*(x1**2*x2**2 + 8.0*x1**2*x3**2 + 8.0*x2**2*x3**2 + 24.9799919935936*sqrt(0.0016025641025641*x1**4*x2**4 + 0.0256410256410256*x1**4*x2**2*x3**2 + 0.102564102564103*x1**4*x3**4 + 0.256410256410256*x1**2*x2**4*x3**2 - x1**2*x2**3*x3**3 + 0.435897435897436*x1**2*x2**2*x3**4 + 0.102564102564103*x2**4*x3**4))/(x1*x2*x3)"
            ],
            "text/latex": "$\\displaystyle \\frac{0.0833333333333333 \\left(x_{1}^{2} x_{2}^{2} + 8.0 x_{1}^{2} x_{3}^{2} + 8.0 x_{2}^{2} x_{3}^{2} + 24.9799919935936 \\sqrt{0.0016025641025641 x_{1}^{4} x_{2}^{4} + 0.0256410256410256 x_{1}^{4} x_{2}^{2} x_{3}^{2} + 0.102564102564103 x_{1}^{4} x_{3}^{4} + 0.256410256410256 x_{1}^{2} x_{2}^{4} x_{3}^{2} - x_{1}^{2} x_{2}^{3} x_{3}^{3} + 0.435897435897436 x_{1}^{2} x_{2}^{2} x_{3}^{4} + 0.102564102564103 x_{2}^{4} x_{3}^{4}}\\right)}{x_{1} x_{2} x_{3}}$"
          },
          "metadata": {},
          "execution_count": 6
        }
      ],
      "source": [
        "solution[1]"
      ]
    },
    {
      "cell_type": "markdown",
      "id": "93514301-425a-4ad5-8d93-16af6d5b7355",
      "metadata": {
        "id": "93514301-425a-4ad5-8d93-16af6d5b7355"
      },
      "source": []
    },
    {
      "cell_type": "code",
      "execution_count": 7,
      "id": "4dad8c7e-1469-4608-a866-0ec1c15d6d7a",
      "metadata": {
        "colab": {
          "base_uri": "https://localhost:8080/"
        },
        "id": "4dad8c7e-1469-4608-a866-0ec1c15d6d7a",
        "outputId": "12bb1e90-ee04-4e25-a20f-e487e1dbd1d2"
      },
      "outputs": [
        {
          "output_type": "stream",
          "name": "stdout",
          "text": [
            "[0.5*k*x1*x3/(m*x2) + x2*x3/x1 + 0.25*x1*x2/(m*x3) - x2*x3/(m*x1) - 1.4142135623731*sqrt(0.125*k**2*x1**4*x3**4 - k*m*x1**2*x2**3*x3**3 + 0.5*k*m*x1**2*x2**2*x3**4 + 0.125*k*x1**4*x2**2*x3**2 - 0.5*k*x1**2*x2**2*x3**4 + 0.5*m**2*x1**2*x2**4*x3**2 - m**2*x1**2*x2**3*x3**3 + 0.5*m**2*x1**2*x2**2*x3**4 + 0.5*m**2*x2**4*x3**4 + 0.25*m*x1**2*x2**4*x3**2 + 0.5*m*x1**2*x2**3*x3**3 - m*x2**4*x3**4 + 0.03125*x1**4*x2**4 - 0.25*x1**2*x2**4*x3**2 + 0.5*x2**4*x3**4)/(m*x1*x2*x3), 0.5*k*x1*x3/(m*x2) + x2*x3/x1 + 0.25*x1*x2/(m*x3) - x2*x3/(m*x1) + 1.4142135623731*sqrt(0.125*k**2*x1**4*x3**4 - k*m*x1**2*x2**3*x3**3 + 0.5*k*m*x1**2*x2**2*x3**4 + 0.125*k*x1**4*x2**2*x3**2 - 0.5*k*x1**2*x2**2*x3**4 + 0.5*m**2*x1**2*x2**4*x3**2 - m**2*x1**2*x2**3*x3**3 + 0.5*m**2*x1**2*x2**2*x3**4 + 0.5*m**2*x2**4*x3**4 + 0.25*m*x1**2*x2**4*x3**2 + 0.5*m*x1**2*x2**3*x3**3 - m*x2**4*x3**4 + 0.03125*x1**4*x2**4 - 0.25*x1**2*x2**4*x3**2 + 0.5*x2**4*x3**4)/(m*x1*x2*x3)]\n"
          ]
        }
      ],
      "source": [
        "# Define symbols\n",
        "x1, x2, x3, x4, k, m = symbols('x1 x2 x3 x4 k m')\n",
        "\n",
        "# Define the equation\n",
        "eq = Eq(x4**2*(m*x1*x2*x3) +\n",
        "        x4 * (-(2*m + 2*k - 1)*x2**2*x3**2 - (1/2)*(2*k*(x1**2*x3**2 - 2*x2**2*x3**2) + x1**2*x2**2 - 2*x2**2*x3**2)) +\n",
        "        x1 * x2 * x3 * ((2*m + 2*k - 1)*x2*x3 - m*(x2**2 + x3**2)),0)\n",
        "\n",
        "#eq_subs = eq.subs(m, 3)\n",
        "#eq_subs_f = eq_subs.subs(k,4)\n",
        "\n",
        "# Solve the equation for z\n",
        "solution = solve(eq, (x4))\n",
        "\n",
        "print(solution)"
      ]
    },
    {
      "cell_type": "code",
      "execution_count": 8,
      "id": "aca789d7-6b54-4271-ae08-ac1eada3a48a",
      "metadata": {
        "colab": {
          "base_uri": "https://localhost:8080/"
        },
        "id": "aca789d7-6b54-4271-ae08-ac1eada3a48a",
        "outputId": "09acfd57-75d3-4b42-e299-3837404e0c2a"
      },
      "outputs": [
        {
          "output_type": "stream",
          "name": "stdout",
          "text": [
            "Iteration limit reached    (Exit mode 9)\n",
            "            Current function value: -4.942789401360302e+40\n",
            "            Iterations: 100\n",
            "            Function evaluations: 948\n",
            "            Gradient evaluations: 100\n",
            "Solutions for the variables (x1, x2, x3, m, k): [ 2.95751032e+03  9.95485642e+04 -9.66098687e+04 -1.56525786e+00\n",
            "  1.67933813e+03]\n"
          ]
        }
      ],
      "source": [
        "from scipy.optimize import minimize\n",
        "import numpy as np\n",
        "\n",
        "# Define the equation to minimize\n",
        "def inequality_function(vars):\n",
        "    x1, x2, x3, m, k = vars\n",
        "    return (-(2*m + 2*k - 1)*x2**2*x3**2 - (1/2)*(2*k*(x1**2*x3**2 - 2*x2**2*x3**2) + x1**2*x2**2 - 2*x2**2*x3**2))**2 - \\\n",
        "           4* ( (m*x1*x2*x3)) * (x1 * x2 * x3 * ((2*m + 2*k - 1)*x2*x3 - m*(x2**2 + x3**2)))\n",
        "\n",
        "# Constrain\n",
        "def constraint(vars):\n",
        "    return inequality_function(vars)\n",
        "\n",
        "# Initial values\n",
        "initial_guess = np.array([1, 1, 1, 1, 1])\n",
        "\n",
        "# Solve and optimize\n",
        "solution = minimize(constraint, initial_guess, method='SLSQP', options={'disp': True})\n",
        "\n",
        "# Solution\n",
        "print(\"Solutions for the variables (x1, x2, x3, m, k):\", solution.x)\n",
        "#print(\"Valor de la función en la solución encontrada:\", inequality_function(solution.x))\n"
      ]
    },
    {
      "cell_type": "code",
      "execution_count": 9,
      "id": "7a502a65-c3fc-4708-83b6-1ac6b607418d",
      "metadata": {
        "colab": {
          "base_uri": "https://localhost:8080/"
        },
        "id": "7a502a65-c3fc-4708-83b6-1ac6b607418d",
        "outputId": "0645159c-b5f2-45a5-f6e2-a12402f9be40"
      },
      "outputs": [
        {
          "output_type": "stream",
          "name": "stdout",
          "text": [
            "Optimization terminated successfully    (Exit mode 0)\n",
            "            Current function value: -1.2263150495073205e-09\n",
            "            Iterations: 4\n",
            "            Function evaluations: 28\n",
            "            Gradient evaluations: 4\n",
            "Solutions for the variables (x1, x2, x3, m, k, x4): [0.97955654 0.81499597 0.98083298 3.         4.         1.05705321]\n"
          ]
        }
      ],
      "source": [
        "from scipy.optimize import minimize\n",
        "import numpy as np\n",
        "\n",
        "# Define the equation to minimize\n",
        "def equation(vars):\n",
        "    x1, x2, x3, m, k, x4 = vars\n",
        "    return x4**2*(m*x1*x2*x3) + x4 * (-(2*m + 2*k - 1)*x2**2*x3**2 - (1/2)*(2*k*(x1**2*x3**2 - 2*x2**2*x3**2) + x1**2*x2**2 - 2*x2**2*x3**2)) + x1 * x2 * x3 * ((2*m + 2*k - 1)*x2*x3 - m*(x2**2 + x3**2))\n",
        "\n",
        "# Constrain\n",
        "def constraint(vars):\n",
        "    x1, x2, x3, m, k, x4 = vars\n",
        "    return [equation(vars), m - int(m), k - int(k)]\n",
        "\n",
        "# Initial values\n",
        "initial_guess = np.array([1, 1, 1, 3.0, 4.0, 1])\n",
        "\n",
        "# Solve and optimize\n",
        "solution = minimize(lambda x: equation(x), initial_guess, method='SLSQP', constraints={'type': 'eq', 'fun': lambda x: constraint(x)}, options={'disp': True})\n",
        "\n",
        "# Solution\n",
        "print(\"Solutions for the variables (x1, x2, x3, m, k, x4):\", solution.x)\n",
        "#print(\"Valor de la función en la solución encontrada:\", equation(solution.x))\n"
      ]
    }
  ],
  "metadata": {
    "kernelspec": {
      "display_name": "Python 3 (ipykernel)",
      "language": "python",
      "name": "python3"
    },
    "language_info": {
      "codemirror_mode": {
        "name": "ipython",
        "version": 3
      },
      "file_extension": ".py",
      "mimetype": "text/x-python",
      "name": "python",
      "nbconvert_exporter": "python",
      "pygments_lexer": "ipython3",
      "version": "3.10.12"
    },
    "colab": {
      "provenance": [],
      "include_colab_link": true
    }
  },
  "nbformat": 4,
  "nbformat_minor": 5
}